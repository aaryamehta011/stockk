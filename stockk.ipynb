{
 "cells": [
  {
   "cell_type": "code",
   "execution_count": 1,
   "id": "1c87ac1a-6ef9-4909-b0a0-77861bd0a81d",
   "metadata": {},
   "outputs": [
    {
     "name": "stdout",
     "output_type": "stream",
     "text": [
      "Driver Class for National Stock Exchange (NSE)\n"
     ]
    }
   ],
   "source": [
    "from nsetools import Nse\n",
    "import pandas as pd\n",
    "\n",
    "nse = Nse()\n",
    "print(nse)\n"
   ]
  },
  {
   "cell_type": "code",
   "execution_count": 2,
   "id": "07c10edb-25f7-4868-ab1c-15f4d3325a61",
   "metadata": {},
   "outputs": [],
   "source": [
    "def get_stock_data(stock_code):\n",
    "    stock_data = nse.get_quote(stock_code)\n",
    "    return pd.DataFrame([stock_data])\n"
   ]
  },
  {
   "cell_type": "code",
   "execution_count": 16,
   "id": "21a6829c-4142-40a2-b7a7-56c666d67cc5",
   "metadata": {},
   "outputs": [
    {
     "name": "stdout",
     "output_type": "stream",
     "text": [
      "{'info': {'symbol': 'TCS', 'companyName': 'Tata Consultancy Services Limited', 'industry': 'COMPUTERS - SOFTWARE', 'activeSeries': ['EQ'], 'debtSeries': [], 'isFNOSec': True, 'isCASec': False, 'isSLBSec': True, 'isDebtSec': False, 'isSuspended': False, 'tempSuspendedSeries': [], 'isETFSec': False, 'isDelisted': False, 'isin': 'INE467B01029', 'isMunicipalBond': False, 'isTop10': False, 'identifier': 'TCSEQN'}, 'metadata': {'series': 'EQ', 'symbol': 'TCS', 'isin': 'INE467B01029', 'status': 'Listed', 'listingDate': '25-Aug-2004', 'industry': 'Computers - Software & Consulting', 'lastUpdateTime': '22-May-2024 16:00:00', 'pdSectorPe': 29.52, 'pdSymbolPe': 29.98, 'pdSectorInd': 'NIFTY IT                                          '}, 'securityInfo': {'boardStatus': 'Main', 'tradingStatus': 'Active', 'tradingSegment': 'Normal Market', 'sessionNo': '-', 'slb': 'Yes', 'classOfShare': 'Equity', 'derivatives': 'Yes', 'surveillance': {'surv': None, 'desc': None}, 'faceValue': 1, 'issuedSize': 3618087518}, 'sddDetails': {'SDDAuditor': '-', 'SDDStatus': '-'}, 'priceInfo': {'lastPrice': 3831.5, 'change': 11.300000000000182, 'pChange': 0.29579603162138585, 'previousClose': 3820.2, 'open': 3835, 'close': 3832, 'vwap': 3830.72, 'lowerCP': '3438.20', 'upperCP': '4202.20', 'pPriceBand': 'No Band', 'basePrice': 3820.2, 'intraDayHighLow': {'min': 3817.55, 'max': 3841.25, 'value': 3831.5}, 'weekHighLow': {'min': 3156, 'minDate': '16-Jun-2023', 'max': 4254.75, 'maxDate': '18-Mar-2024', 'value': 3831.5}, 'iNavValue': None, 'checkINAV': False}, 'industryInfo': {'macro': 'Information Technology', 'sector': 'Information Technology', 'industry': 'IT - Software', 'basicIndustry': 'Computers - Software & Consulting'}, 'preOpenMarket': {'preopen': [{'price': 3438.2, 'buyQty': 0, 'sellQty': 73}, {'price': 3448.35, 'buyQty': 0, 'sellQty': 113}, {'price': 3450, 'buyQty': 0, 'sellQty': 1}, {'price': 3465, 'buyQty': 0, 'sellQty': 1}, {'price': 3835, 'buyQty': 0, 'sellQty': 0, 'iep': True}, {'price': 3997.15, 'buyQty': 1, 'sellQty': 0}, {'price': 4011.2, 'buyQty': 1749, 'sellQty': 0}, {'price': 4200, 'buyQty': 1, 'sellQty': 0}, {'price': 4202.2, 'buyQty': 8, 'sellQty': 0}], 'ato': {'buy': 970, 'sell': 529}, 'IEP': 3835, 'totalTradedVolume': 31029, 'finalPrice': 3835, 'finalQuantity': 31029, 'lastUpdateTime': '22-May-2024 09:07:54', 'totalBuyQuantity': 19048, 'totalSellQuantity': 63005, 'atoBuyQty': 970, 'atoSellQty': 529, 'Change': 14.800000000000182, 'perChange': 0.3874142715041145, 'prevClose': 3820.2}}\n",
      "TCS stock data saved to 'TCS_stock_data.csv'\n"
     ]
    }
   ],
   "source": [
    "import requests\n",
    "\n",
    "def get_stock_data(stock_code):\n",
    "    url = f'https://www.nseindia.com/api/quote-equity?symbol={stock_code}'\n",
    "    headers = {\n",
    "        'User-Agent': 'Mozilla/5.0 (Windows NT 10.0; Win64; x64) AppleWebKit/537.36 (KHTML, like Gecko) Chrome/91.0.4472.124 Safari/537.36',\n",
    "        'Accept-Language': 'en-US,en;q=0.9',\n",
    "        'Accept-Encoding': 'gzip, deflate, br',\n",
    "        'Connection': 'keep-alive',\n",
    "        'DNT': '1',\n",
    "    }\n",
    "    response = requests.get(url, headers=headers)\n",
    "    if response.status_code == 301 or response.status_code == 302:\n",
    "        new_url = response.headers['Location']\n",
    "        response = requests.get(new_url, headers=headers)\n",
    "    return response.json()\n",
    "\n",
    "# Fetch TCS data\n",
    "tcs_data = get_stock_data('TCS')\n",
    "print(tcs_data)\n",
    "\n",
    "df = pd.DataFrame([tcs_data])\n",
    "\n",
    "df.to_csv('TCS_stock_data.csv', index=False)\n",
    "\n",
    "print(\"TCS stock data saved to 'TCS_stock_data.csv'\")\n"
   ]
  },
  {
   "cell_type": "code",
   "execution_count": 18,
   "id": "23b92341-b39f-46eb-8a84-e695349f2bc5",
   "metadata": {},
   "outputs": [
    {
     "name": "stdout",
     "output_type": "stream",
     "text": [
      "        0   1\n",
      "0    Date NaN\n",
      "1   Close NaN\n",
      "2    Open NaN\n",
      "3    High NaN\n",
      "4     Low NaN\n",
      "5  Volume NaN\n",
      "TCS stock data saved to 'TCS_stock_data.csv'\n"
     ]
    }
   ],
   "source": [
    "import pandas as pd\n",
    "from yahoo_fin import stock_info as si\n",
    "import requests\n",
    "from io import StringIO\n",
    "\n",
    "# Fetch TCS data\n",
    "site = \"https://finance.yahoo.com/quote/TCS.NS?p=TCS.NS\"\n",
    "headers = {\n",
    "    'User-Agent': 'Mozilla/5.0 (Windows NT 10.0; Win64; x64) AppleWebKit/537.36 (KHTML, like Gecko) Chrome/91.0.4472.124 Safari/537.36'\n",
    "}\n",
    "response = requests.get(site, headers=headers)\n",
    "tables = pd.read_html(StringIO(response.text))\n",
    "\n",
    "# Combine the first two tables (quote data)\n",
    "tcs_data = pd.concat(tables[:2], ignore_index=True)\n",
    "\n",
    "# Convert the DataFrame to the desired format (attribute-value pairs)\n",
    "#tcs_data.columns = [\"attribute\", \"value\"]\n",
    "\n",
    "# Save the DataFrame to a CSV file\n",
    "tcs_data.to_csv('TCS_stock_data.csv', index=False)\n",
    "print(tcs_data)\n",
    "print(\"TCS stock data saved to 'TCS_stock_data.csv'\")\n",
    "\n"
   ]
  },
  {
   "cell_type": "code",
   "execution_count": null,
   "id": "00a18c37-6199-4c11-a322-a6d5b912e348",
   "metadata": {},
   "outputs": [],
   "source": []
  }
 ],
 "metadata": {
  "kernelspec": {
   "display_name": "Python 3 (ipykernel)",
   "language": "python",
   "name": "python3"
  },
  "language_info": {
   "codemirror_mode": {
    "name": "ipython",
    "version": 3
   },
   "file_extension": ".py",
   "mimetype": "text/x-python",
   "name": "python",
   "nbconvert_exporter": "python",
   "pygments_lexer": "ipython3",
   "version": "3.12.1"
  }
 },
 "nbformat": 4,
 "nbformat_minor": 5
}
